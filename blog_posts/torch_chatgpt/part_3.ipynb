{
 "cells": [
  {
   "cell_type": "code",
   "execution_count": null,
   "id": "b40dd91c-8a98-4d9a-95ae-d0aa6752f3cd",
   "metadata": {},
   "outputs": [],
   "source": [
    "import string\n",
    "\n",
    "import numpy as np\n",
    "import pandas as pd\n",
    "import matplotlib.pyplot as plt\n",
    "import nltk\n",
    "import torch\n",
    "import torch.nn as nn\n",
    "import torch.nn.functional as F\n",
    "import torch.optim as optim\n",
    "from torch.utils.data.sampler import SubsetRandomSampler\n",
    "from torch.utils.data import Dataset\n",
    "from nltk.stem import WordNetLemmatizer\n",
    "from sklearn.feature_extraction.text import TfidfVectorizer\n",
    "from sklearn.model_selection import train_test_split"
   ]
  },
  {
   "cell_type": "markdown",
   "id": "810ec5a9-4054-43d2-a89b-71fe539ddbb1",
   "metadata": {},
   "source": [
    "## Set Seed"
   ]
  },
  {
   "cell_type": "code",
   "execution_count": null,
   "id": "477dd7d8-e94f-450a-846d-59d6050824c7",
   "metadata": {},
   "outputs": [],
   "source": [
    "RANDOM_SEED = 42\n",
    "np.random.seed(RANDOM_SEED)\n",
    "torch.manual_seed(RANDOM_SEED)"
   ]
  },
  {
   "cell_type": "markdown",
   "id": "0f996992-c0e2-4762-8b36-f1fd72f059ec",
   "metadata": {},
   "source": [
    "## Read Data"
   ]
  },
  {
   "cell_type": "code",
   "execution_count": null,
   "id": "e060ea76-100c-42c8-9f0f-f670ab159e0a",
   "metadata": {},
   "outputs": [],
   "source": [
    "df = pd.read_csv(\n",
    "    \"s3://{YOUR_BUCKET}/sentence_level_data.csv\",\n",
    "    index_col=[0],\n",
    "    storage_options={\n",
    "        \"key\": \"REDACTED\",\n",
    "        \"secret\": \"REDACTED\",\n",
    "    }\n",
    ")"
   ]
  },
  {
   "cell_type": "markdown",
   "id": "286d3f6b-ced9-4463-be3e-d457db863905",
   "metadata": {},
   "source": [
    "### Prep Data"
   ]
  },
  {
   "cell_type": "code",
   "execution_count": null,
   "id": "21749643-7514-4861-a7f4-d9594de8cb6b",
   "metadata": {},
   "outputs": [],
   "source": [
    "def clean_text(s: str) -> str:\n",
    "    \"\"\"Clean the text.\n",
    "\n",
    "    :param s: (str)\n",
    "    :return: str\n",
    "    \"\"\"\n",
    "    return s.lower().translate(s.maketrans(\"\", \"\", string.punctuation))\n",
    "\n",
    "df[\"cleaned_setence\"] = df[\"sentence\"].apply(lambda x: clean_text(x))"
   ]
  },
  {
   "cell_type": "code",
   "execution_count": null,
   "id": "f90250cc-b398-4861-b16f-704ac23f4f29",
   "metadata": {},
   "outputs": [],
   "source": [
    "nltk.download(\"wordnet\")\n",
    "\n",
    "lemmer = WordNetLemmatizer()"
   ]
  },
  {
   "cell_type": "code",
   "execution_count": null,
   "id": "e2eb7f2e-830e-4fbe-9757-f2f2f11ee8bc",
   "metadata": {},
   "outputs": [],
   "source": [
    "def lemmatize_text(s: str, lemmer: WordNetLemmatizer) -> str:\n",
    "    \"\"\"Lemmatize the text.\n",
    "\n",
    "    :param s: (str)\n",
    "    :param stemmer: (PorterStemmer)\n",
    "    :return: (str)\n",
    "    \"\"\"\n",
    "    return \" \".join([lemmer.lemmatize(word) for word in s.split()])"
   ]
  },
  {
   "cell_type": "code",
   "execution_count": null,
   "id": "ad329c56-a99f-4476-bbbd-b3417c469dc5",
   "metadata": {},
   "outputs": [],
   "source": [
    "df[\"lemmatized_text\"] = df[\"cleaned_setence\"].apply(lambda x: lemmatize_text(x, lemmer))"
   ]
  },
  {
   "cell_type": "code",
   "execution_count": null,
   "id": "9afb0be5-388f-44c1-b37f-d407e9dc2083",
   "metadata": {},
   "outputs": [],
   "source": [
    "tfidf = TfidfVectorizer()"
   ]
  },
  {
   "cell_type": "code",
   "execution_count": null,
   "id": "8586b265-b787-4f68-b214-5a982e70f45c",
   "metadata": {},
   "outputs": [],
   "source": [
    "x_tfidf = tfidf.fit_transform(df[\"lemmatized_text\"])"
   ]
  },
  {
   "cell_type": "code",
   "execution_count": null,
   "id": "647482a9-3e14-4baf-9309-42052089170c",
   "metadata": {},
   "outputs": [],
   "source": [
    "class ChatGPTDataset(Dataset):\n",
    "    def __init__(self, x_tfidf: list, y: int) -> None:\n",
    "        self.x_tfidf = x_tfidf\n",
    "        self.y = y\n",
    "        \n",
    "    \n",
    "    def __len__(self) -> int:\n",
    "        return len(self.x_tfidf)\n",
    "    \n",
    "    \n",
    "    def __getitem__(self, index: int) -> tuple:\n",
    "        return self.x_tfidf[index], self.y[index]"
   ]
  },
  {
   "cell_type": "code",
   "execution_count": null,
   "id": "04c4843d-6edd-459d-97b3-02f36ea5981f",
   "metadata": {},
   "outputs": [],
   "source": [
    "chatgpt_dataset = ChatGPTDataset(x_tfidf.toarray(), y=df[\"class\"].tolist())\n",
    "train_indices, test_indices = train_test_split(\n",
    "    list(range(0, len(chatgpt_dataset))), test_size=0.2, random_state=RANDOM_SEED\n",
    ")"
   ]
  },
  {
   "cell_type": "code",
   "execution_count": null,
   "id": "3a86cea9-88d9-49ee-bd88-279d7123f7d7",
   "metadata": {},
   "outputs": [],
   "source": [
    "train_sampler = SubsetRandomSampler(train_indices)\n",
    "test_sampler = SubsetRandomSampler(test_indices)"
   ]
  },
  {
   "cell_type": "code",
   "execution_count": null,
   "id": "6a64899f-6516-4306-bdc0-727b7de347d4",
   "metadata": {},
   "outputs": [],
   "source": [
    "batch_size = 32\n",
    "train_loader = torch.utils.data.DataLoader(\n",
    "    chatgpt_dataset,\n",
    "    batch_size=batch_size,\n",
    "    sampler=train_sampler\n",
    ")\n",
    "validation_loader = torch.utils.data.DataLoader(\n",
    "    chatgpt_dataset,\n",
    "    batch_size=batch_size,\n",
    "    sampler=test_sampler\n",
    ")"
   ]
  },
  {
   "cell_type": "markdown",
   "id": "bf27c679-d5ff-4761-afda-e621a8ed0c77",
   "metadata": {},
   "source": [
    "### Model"
   ]
  },
  {
   "cell_type": "code",
   "execution_count": null,
   "id": "c233c4ef-9981-43e8-8c0b-059f415e41fd",
   "metadata": {},
   "outputs": [],
   "source": [
    "class DenseNetwork(nn.Module):\n",
    "    \n",
    "    def __init__(self):\n",
    "        super(DenseNetwork,self).__init__()\n",
    "        self.fc1 = nn.Linear(chatgpt_dataset.x_tfidf.shape[1], 1024)\n",
    "        self.drop1 = nn.Dropout(0.8)\n",
    "        self.fc2 = nn.Linear(1024, 256)\n",
    "        self.drop2 = nn.Dropout(0.6)\n",
    "        self.fc3 = nn.Linear(256, 128)\n",
    "        self.drop3 = nn.Dropout(0.4)\n",
    "        self.prediction = nn.Linear(128, 2)\n",
    "        \n",
    "    def forward(self, x):\n",
    "        \n",
    "        x = F.relu(self.fc1(x.to(torch.float)))\n",
    "        x = self.drop1(x)\n",
    "        x = F.relu(self.fc2(x))\n",
    "        x = self.drop2(x)\n",
    "        x = F.relu(self.fc3(x))\n",
    "        x = self.drop3(x)\n",
    "        x = F.log_softmax(self.prediction(x).squeeze())\n",
    "        \n",
    "        return x"
   ]
  },
  {
   "cell_type": "code",
   "execution_count": null,
   "id": "cc10fd82-f318-45a0-906d-ec703dd2f6ad",
   "metadata": {},
   "outputs": [],
   "source": [
    "model = DenseNetwork()\n",
    "criterion = nn.CrossEntropyLoss()\n",
    "optimizer = optim.Adam(model.parameters())"
   ]
  },
  {
   "cell_type": "code",
   "execution_count": null,
   "id": "a87466e0-f281-4cb8-8652-c348d82ae30b",
   "metadata": {},
   "outputs": [],
   "source": [
    "epochs = 7\n",
    "losses = []\n",
    "accuracies = []\n",
    "\n",
    "for epoch in range(1, epochs + 1):\n",
    "    epoch_loss = 0.0\n",
    "    epoch_true = 0\n",
    "    epoch_total = 0\n",
    "    for data, target in train_loader:\n",
    "        optimizer.zero_grad()\n",
    "        outputs = model(data)\n",
    "\n",
    "        loss = criterion(outputs, target)\n",
    "        loss.backward()\n",
    "    \n",
    "        optimizer.step()\n",
    "        \n",
    "        epoch_loss += loss.item()\n",
    "        \n",
    "        _, pred = torch.max(outputs,dim=1)\n",
    "        epoch_true = epoch_true + torch.sum(pred == target).item()\n",
    "        \n",
    "        epoch_total += target.size(0)\n",
    "        \n",
    "    losses.append(epoch_loss)\n",
    "    accuracies.append(100 * (epoch_true / epoch_total))\n",
    "    \n",
    "    print(f\"Epoch {epoch}/{epochs} finished: train_loss = {epoch_loss}, train_accuracy = {accuracies[epoch - 1]}\")"
   ]
  },
  {
   "cell_type": "code",
   "execution_count": null,
   "id": "fafc5d29-eeb9-4c7c-acc3-f2c47049a62e",
   "metadata": {},
   "outputs": [],
   "source": [
    "test_true = 0\n",
    "test_total = len(test_sampler)\n",
    "test_loss = 0.0\n",
    "with torch.no_grad():\n",
    "    for data, target in validation_loader:\n",
    "        outputs = model(data)\n",
    "        \n",
    "        loss = criterion(outputs, target).item()\n",
    "        \n",
    "        _,pred = torch.max(outputs, dim=1)\n",
    "        \n",
    "        test_true += torch.sum(pred == target).item()\n",
    "        test_loss += loss\n",
    "        \n",
    "\n",
    "print(f\"Validation finished: Accuracy = {round(100 * (test_true / test_total), 2)}%, Loss = {test_loss}\")"
   ]
  },
  {
   "cell_type": "code",
   "execution_count": null,
   "id": "8882cfe9-ba67-487d-a245-a4759115bcab",
   "metadata": {},
   "outputs": [],
   "source": []
  }
 ],
 "metadata": {
  "kernelspec": {
   "display_name": "Python 3 (ipykernel)",
   "language": "python",
   "name": "python3"
  },
  "language_info": {
   "codemirror_mode": {
    "name": "ipython",
    "version": 3
   },
   "file_extension": ".py",
   "mimetype": "text/x-python",
   "name": "python",
   "nbconvert_exporter": "python",
   "pygments_lexer": "ipython3",
   "version": "3.10.14"
  }
 },
 "nbformat": 4,
 "nbformat_minor": 5
}
